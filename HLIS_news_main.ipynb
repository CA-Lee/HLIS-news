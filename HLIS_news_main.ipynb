{
 "cells": [
  {
   "cell_type": "code",
   "execution_count": 64,
   "metadata": {},
   "outputs": [
    {
     "name": "stdout",
     "output_type": "stream",
     "text": [
      "Access_token: EAAGK96361AABAKopkp7ll5Q4Ouvme7Cjm2wTMzE5wQTmW3SxoabfXnqtfXdsZBujROiUXgnZCriMVZBXjTE8Qqe7qKPtjXdiuTtAjIDtkpPDEs3ufFye34ztug3AlpDnGYotnYlwdBstscoRPAZASZAY153jHOXeylpdMOVJaAFdiO8aKQV0jDS8enN4dSwJ5TKdxayZC21AZDZD\n",
      "[{'message': '#輔導室 / 2019實踐家偏鄉青少年Money&You 654期公益營 / 2019-06-19', 'link': 'http://bcc.hlis.hlc.edu.tw/files/14-1000-17379,r12-1.php'}, {'message': '#輔導室 / 重要訊息:通報不得超過24小時之規定 / 2019-06-19', 'link': 'http://bcc.hlis.hlc.edu.tw/files/14-1000-17380,r12-1.php'}, {'message': '#教務處 / 公告107-2考程表及考試注意事項(本次考試備查證件為學生證、身分證、健保卡、駕照或勞動部所發證照擇一，具有清晰之大頭照、身分證字號、姓名者。) / 2019-06-19', 'link': 'http://bcc.hlis.hlc.edu.tw/files/14-1000-17378,r12-1.php'}]\n",
      "{'id': '328183278116459_331502091117911'}\n",
      "{'id': '328183278116459_331502357784551'}\n",
      "{'id': '328183278116459_331502557784531'}\n"
     ]
    },
    {
     "data": {
      "text/plain": [
       "0"
      ]
     },
     "execution_count": 64,
     "metadata": {},
     "output_type": "execute_result"
    }
   ],
   "source": [
    "import requests\n",
    "import chardet\n",
    "from bs4 import BeautifulSoup\n",
    "import facebook\n",
    "import time\n",
    "import re\n",
    "\n",
    "cfg = {\n",
    " \"page_id\" : \"328183278116459\", # Step 1\n",
    " \"access_token\" : input('Access_token: ') #step3\n",
    "}\n",
    "\n",
    "graph = facebook.GraphAPI(cfg['access_token'])\n",
    "\n",
    "###############Global setting end###############\n",
    "\n",
    "def getrawlist():\n",
    "    \n",
    "    r = requests.get(\"http://bcc.hlis.hlc.edu.tw/files/40-1000-12-1.php\")\n",
    "    r.encoding = 'utf-8'\n",
    "    #print(r.text)\n",
    "\n",
    "    soup = BeautifulSoup(r.text,\"html.parser\")\n",
    "    #print(soup.text)\n",
    "\n",
    "    sel = soup.select(\"table.baseTB.listTB.list_TABLE.hasBD.hasTH tbody tr\")\n",
    "    #print(sel)\n",
    "    \n",
    "    ret = []\n",
    "\n",
    "    for s in sel:\n",
    "    #s = sel[0]\n",
    "        #for begin\n",
    "        data = {}\n",
    "        \n",
    "        #abstract title & url\n",
    "        atag = s.select(\"a\")\n",
    "        data[\"title\"] = atag[0][\"title\"].strip()\n",
    "        data[\"url\"] = atag[0][\"href\"].strip()\n",
    "        \n",
    "        #abstract issuer\n",
    "        \n",
    "        data[\"issuer\"]  = s.select(\"td\")[1].text.strip()\n",
    "        \n",
    "        #abstract date\n",
    "        \n",
    "        data[\"date\"]  = s.select(\"td\")[2].text.strip()\n",
    "        \n",
    "        ret.append(data)\n",
    "        \n",
    "        #for end\n",
    "    \n",
    "    return ret\n",
    "\n",
    "def filt(dataset):\n",
    "    \n",
    "    #print(dataset)\n",
    "    \n",
    "    #get latest post on facebook page\n",
    "    r_api = graph.get_object(id=cfg[\"page_id\"],fields=\"posts.limit(1)\")\n",
    "    #print(r_api)\n",
    "    \n",
    "    #find the latest post title\n",
    "    last_title = r_api['posts']['data'][0]['message'].strip()\n",
    "    #print(last_title)\n",
    "    \n",
    "    #search the title in dataset *remember to abstract the title\n",
    "    #abstract title\n",
    "    regex = re.compile(r'[^\\/]*\\/\\s*(.*)\\s+\\/\\s\\d{4}\\-\\d{2}\\-\\d{2}') #match title\n",
    "    match = regex.search(last_title)\n",
    "    last_title = match[1]\n",
    "    #print(last_title)\n",
    "    \n",
    "    #search title position\n",
    "    for index,data in enumerate(dataset):\n",
    "        if last_title in data[\"title\"]:\n",
    "            #print(\"position:\",index)\n",
    "\n",
    "            #remove all datas after latest posted title(include it) *they're already posted\n",
    "            for i in range(index,len(dataset)):\n",
    "                dataset.pop()\n",
    "                #print(\"delete:\",dataset[i])\n",
    "    \n",
    "    #print(dataset)\n",
    "    \n",
    "    #make it ready for post\n",
    "    ret = []\n",
    "    for data in dataset:\n",
    "        \n",
    "        #print(data\"\\n\")        \n",
    "        \n",
    "        ret.append({\n",
    "            \"message\":'#'+data['issuer']+' / '+data['title']+' / '+data['date'],\n",
    "            \"link\":data[\"url\"]\n",
    "        })\n",
    "    \n",
    "    return ret\n",
    "\n",
    "def publisher(postset):\n",
    "    \n",
    "    for post in postset:\n",
    "        \n",
    "        #post text,link\n",
    "        r = graph.put_object(cfg['page_id'],\"feed\",message=post[\"message\"],link=post[\"link\"])\n",
    "        print(r)\n",
    "        \n",
    "        time.sleep(20)\n",
    "        \n",
    "    return 0\n",
    "\n",
    "#main\n",
    "\n",
    "rawlist = getrawlist()\n",
    "#print(rawlist)\n",
    "\n",
    "ready4post = filt(rawlist)\n",
    "print(ready4post)\n",
    "\n",
    "publisher(ready4post)\n",
    "\n",
    "\n",
    "\n",
    "\n"
   ]
  },
  {
   "cell_type": "code",
   "execution_count": 8,
   "metadata": {},
   "outputs": [
    {
     "name": "stdout",
     "output_type": "stream",
     "text": [
      "<a href=\"/bbs/MobileComm/M.1560782814.A.EB9.html\">[問題] 三星A60螢幕漏光</a>\n",
      "<a href=\"/bbs/MobileComm/M.1560782950.A.3E6.html\">[心得] 1+7 pro/ oneplus 7 pro7簡易開箱心得</a>\n",
      "<a href=\"/bbs/MobileComm/M.1560783288.A.3D1.html\">[問題] 華碩皇家俱樂部手機更換電池問題</a>\n",
      "<a href=\"/bbs/MobileComm/M.1560783642.A.09F.html\">[閒聊] 紅米K20 vs Realme X 拍攝比對</a>\n",
      "<a href=\"/bbs/MobileComm/M.1560783757.A.290.html\">[閒聊] ZenFone4 Android9更新心得</a>\n",
      "<a href=\"/bbs/MobileComm/M.1560785833.A.685.html\">[閒聊] XDA Reno 10X Zoom GCam使用討論</a>\n",
      "<a href=\"/bbs/MobileComm/M.1534272593.A.93B.html\">[情報] 3G要斷訊了? 3G執照到期相關情報整理</a>\n",
      "<a href=\"/bbs/MobileComm/M.1546253879.A.29E.html\">[公告] MobileComm 板規 181231</a>\n",
      "<a href=\"/bbs/MobileComm/M.1546248617.A.0B0.html\">[公告] 板規更新(討噓文、問機文、新聞格式、發推文格式)</a>\n",
      "<a href=\"/bbs/MobileComm/M.1558366165.A.34A.html\">[閒聊] 各種價位的手機/平板列表(2019/05/20)</a>\n",
      "<a href=\"/bbs/MobileComm/M.1559572393.A.146.html\">[閒聊] 置底閒聊文</a>\n"
     ]
    }
   ],
   "source": [
    "import requests\n",
    "from bs4 import BeautifulSoup\n",
    "\n",
    "r = requests.get(\"https://www.ptt.cc/bbs/MobileComm/index.html\") #將網頁資料GET下來\n",
    "soup = BeautifulSoup(r.text,\"html.parser\") #將網頁資料以html.parser\n",
    "sel = soup.select(\"div.title a\") #取HTML標中的 <div class=\"title\"></div> 中的<a>標籤存入sel\n",
    "for s in sel:\n",
    "    #print(s[\"href\"], s.text) \n",
    "    print(s)"
   ]
  },
  {
   "cell_type": "code",
   "execution_count": 61,
   "metadata": {},
   "outputs": [
    {
     "ename": "GraphAPIError",
     "evalue": "Error validating access token: Session has expired on Tuesday, 18-Jun-19 19:00:00 PDT. The current time is Tuesday, 18-Jun-19 21:10:58 PDT.",
     "output_type": "error",
     "traceback": [
      "\u001b[1;31m---------------------------------------------------------------------------\u001b[0m",
      "\u001b[1;31mGraphAPIError\u001b[0m                             Traceback (most recent call last)",
      "\u001b[1;32m<ipython-input-61-03a76743665d>\u001b[0m in \u001b[0;36m<module>\u001b[1;34m\u001b[0m\n\u001b[0;32m      8\u001b[0m \u001b[0mgraph\u001b[0m \u001b[1;33m=\u001b[0m \u001b[0mfacebook\u001b[0m\u001b[1;33m.\u001b[0m\u001b[0mGraphAPI\u001b[0m\u001b[1;33m(\u001b[0m\u001b[0mcfg\u001b[0m\u001b[1;33m[\u001b[0m\u001b[1;34m'access_token'\u001b[0m\u001b[1;33m]\u001b[0m\u001b[1;33m)\u001b[0m\u001b[1;33m\u001b[0m\u001b[1;33m\u001b[0m\u001b[0m\n\u001b[0;32m      9\u001b[0m \u001b[1;33m\u001b[0m\u001b[0m\n\u001b[1;32m---> 10\u001b[1;33m \u001b[0mr\u001b[0m \u001b[1;33m=\u001b[0m \u001b[0mgraph\u001b[0m\u001b[1;33m.\u001b[0m\u001b[0mget_object\u001b[0m\u001b[1;33m(\u001b[0m\u001b[0mid\u001b[0m\u001b[1;33m=\u001b[0m\u001b[0mcfg\u001b[0m\u001b[1;33m[\u001b[0m\u001b[1;34m\"page_id\"\u001b[0m\u001b[1;33m]\u001b[0m\u001b[1;33m,\u001b[0m\u001b[0mfields\u001b[0m\u001b[1;33m=\u001b[0m\u001b[1;34m\"posts.limit(1)\"\u001b[0m\u001b[1;33m)\u001b[0m\u001b[1;33m\u001b[0m\u001b[1;33m\u001b[0m\u001b[0m\n\u001b[0m\u001b[0;32m     11\u001b[0m \u001b[1;33m\u001b[0m\u001b[0m\n\u001b[0;32m     12\u001b[0m \u001b[0mprint\u001b[0m\u001b[1;33m(\u001b[0m\u001b[1;34m\"result:\"\u001b[0m\u001b[1;33m,\u001b[0m\u001b[0mr\u001b[0m\u001b[1;33m)\u001b[0m\u001b[1;33m\u001b[0m\u001b[1;33m\u001b[0m\u001b[0m\n",
      "\u001b[1;32m~\\Anaconda3\\lib\\site-packages\\facebook\\__init__.py\u001b[0m in \u001b[0;36mget_object\u001b[1;34m(self, id, **args)\u001b[0m\n\u001b[0;32m    124\u001b[0m     \u001b[1;32mdef\u001b[0m \u001b[0mget_object\u001b[0m\u001b[1;33m(\u001b[0m\u001b[0mself\u001b[0m\u001b[1;33m,\u001b[0m \u001b[0mid\u001b[0m\u001b[1;33m,\u001b[0m \u001b[1;33m**\u001b[0m\u001b[0margs\u001b[0m\u001b[1;33m)\u001b[0m\u001b[1;33m:\u001b[0m\u001b[1;33m\u001b[0m\u001b[1;33m\u001b[0m\u001b[0m\n\u001b[0;32m    125\u001b[0m         \u001b[1;34m\"\"\"Fetches the given object from the graph.\"\"\"\u001b[0m\u001b[1;33m\u001b[0m\u001b[1;33m\u001b[0m\u001b[0m\n\u001b[1;32m--> 126\u001b[1;33m         \u001b[1;32mreturn\u001b[0m \u001b[0mself\u001b[0m\u001b[1;33m.\u001b[0m\u001b[0mrequest\u001b[0m\u001b[1;33m(\u001b[0m\u001b[1;34m\"{0}/{1}\"\u001b[0m\u001b[1;33m.\u001b[0m\u001b[0mformat\u001b[0m\u001b[1;33m(\u001b[0m\u001b[0mself\u001b[0m\u001b[1;33m.\u001b[0m\u001b[0mversion\u001b[0m\u001b[1;33m,\u001b[0m \u001b[0mid\u001b[0m\u001b[1;33m)\u001b[0m\u001b[1;33m,\u001b[0m \u001b[0margs\u001b[0m\u001b[1;33m)\u001b[0m\u001b[1;33m\u001b[0m\u001b[1;33m\u001b[0m\u001b[0m\n\u001b[0m\u001b[0;32m    127\u001b[0m \u001b[1;33m\u001b[0m\u001b[0m\n\u001b[0;32m    128\u001b[0m     \u001b[1;32mdef\u001b[0m \u001b[0mget_objects\u001b[0m\u001b[1;33m(\u001b[0m\u001b[0mself\u001b[0m\u001b[1;33m,\u001b[0m \u001b[0mids\u001b[0m\u001b[1;33m,\u001b[0m \u001b[1;33m**\u001b[0m\u001b[0margs\u001b[0m\u001b[1;33m)\u001b[0m\u001b[1;33m:\u001b[0m\u001b[1;33m\u001b[0m\u001b[1;33m\u001b[0m\u001b[0m\n",
      "\u001b[1;32m~\\Anaconda3\\lib\\site-packages\\facebook\\__init__.py\u001b[0m in \u001b[0;36mrequest\u001b[1;34m(self, path, args, post_args, files, method)\u001b[0m\n\u001b[0;32m    311\u001b[0m \u001b[1;33m\u001b[0m\u001b[0m\n\u001b[0;32m    312\u001b[0m         \u001b[1;32mif\u001b[0m \u001b[0mresult\u001b[0m \u001b[1;32mand\u001b[0m \u001b[0misinstance\u001b[0m\u001b[1;33m(\u001b[0m\u001b[0mresult\u001b[0m\u001b[1;33m,\u001b[0m \u001b[0mdict\u001b[0m\u001b[1;33m)\u001b[0m \u001b[1;32mand\u001b[0m \u001b[0mresult\u001b[0m\u001b[1;33m.\u001b[0m\u001b[0mget\u001b[0m\u001b[1;33m(\u001b[0m\u001b[1;34m\"error\"\u001b[0m\u001b[1;33m)\u001b[0m\u001b[1;33m:\u001b[0m\u001b[1;33m\u001b[0m\u001b[1;33m\u001b[0m\u001b[0m\n\u001b[1;32m--> 313\u001b[1;33m             \u001b[1;32mraise\u001b[0m \u001b[0mGraphAPIError\u001b[0m\u001b[1;33m(\u001b[0m\u001b[0mresult\u001b[0m\u001b[1;33m)\u001b[0m\u001b[1;33m\u001b[0m\u001b[1;33m\u001b[0m\u001b[0m\n\u001b[0m\u001b[0;32m    314\u001b[0m         \u001b[1;32mreturn\u001b[0m \u001b[0mresult\u001b[0m\u001b[1;33m\u001b[0m\u001b[1;33m\u001b[0m\u001b[0m\n\u001b[0;32m    315\u001b[0m \u001b[1;33m\u001b[0m\u001b[0m\n",
      "\u001b[1;31mGraphAPIError\u001b[0m: Error validating access token: Session has expired on Tuesday, 18-Jun-19 19:00:00 PDT. The current time is Tuesday, 18-Jun-19 21:10:58 PDT."
     ]
    }
   ],
   "source": [
    "import facebook\n",
    "\n",
    "cfg = {\n",
    " \"page_id\" : \"328183278116459\", # Step 1\n",
    " \"access_token\" : \"EAAGK96361AABAM6hbO37HUsNeTZAb868ujDPNkU5qPIWrUBaqrisQYjjOsXk8t03QelbtiKMzHJP7LDLbIwUMyotnopuz8JKpnE31yWQ8s0jrzJ4yUX69OBdq38g2XMKq9tJbqBUAmMQRHWs5AKvuZAd3Yfw0QqHOH1UopbbthZBRo3EjjRjLOmUKel38NdpUnhLN57XwZDZD\" #step3\n",
    "}\n",
    "\n",
    "graph = facebook.GraphAPI(cfg['access_token'])\n",
    "\n",
    "r = graph.get_object(id=cfg[\"page_id\"],fields=\"posts.limit(1)\")\n",
    "\n",
    "print(\"result:\",r)"
   ]
  },
  {
   "cell_type": "code",
   "execution_count": 50,
   "metadata": {},
   "outputs": [
    {
     "name": "stdout",
     "output_type": "stream",
     "text": [
      "1\n",
      "2\n",
      "3\n",
      "4\n",
      "5\n",
      "6\n",
      "7\n",
      "8\n",
      "9\n"
     ]
    }
   ],
   "source": [
    "for i in range(1,10):\n",
    "    print(i)"
   ]
  }
 ],
 "metadata": {
  "kernelspec": {
   "display_name": "Python 3",
   "language": "python",
   "name": "python3"
  },
  "language_info": {
   "codemirror_mode": {
    "name": "ipython",
    "version": 3
   },
   "file_extension": ".py",
   "mimetype": "text/x-python",
   "name": "python",
   "nbconvert_exporter": "python",
   "pygments_lexer": "ipython3",
   "version": "3.7.3"
  }
 },
 "nbformat": 4,
 "nbformat_minor": 2
}
