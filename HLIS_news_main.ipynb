{
 "cells": [
  {
   "cell_type": "code",
   "execution_count": null,
   "metadata": {},
   "outputs": [
    {
     "name": "stdout",
     "output_type": "stream",
     "text": [
      "{'title': '社團法人中華民國畫廊協會辦理「ARTTAIPEI臺北國際藝術博覽會」之「藝術教育日」', 'url': 'http://bcc.hlis.hlc.edu.tw/files/14-1000-17350,r12-1.php', 'issuer': '教務處', 'date': '2019-06-17'}\n",
      "{'id': '328183278116459_330540924547361'}\n",
      "{'title': '轉知108年公立高中學校教師敘薪問答集(108年3月版全輯），請參閱。(另開新視窗)', 'url': 'https://www.mlaivs.mlc.edu.tw/ischool/publish_page/9/?cid=364', 'issuer': '人事室', 'date': '2019-06-17'}\n",
      "{'id': '328183278116459_330541087880678'}\n",
      "{'title': '轉國立彰化師範大學進修學院推廣教育班「輔導諮商精緻Moocs系列課程」非學分班招生簡章，請參閱。', 'url': 'http://bcc.hlis.hlc.edu.tw/files/14-1000-17346,r12-1.php', 'issuer': '人事室', 'date': '2019-06-17'}\n",
      "{'id': '328183278116459_330541431213977'}\n",
      "{'title': '轉知花蓮縣政府:自108年7月1日起政府部門、學校、百貨公司及購物中心 內用不得使用一次用塑膠吸管相關規定', 'url': 'http://bcc.hlis.hlc.edu.tw/files/14-1000-17344,r12-1.php', 'issuer': '學務處', 'date': '2019-06-17'}\n",
      "{'id': '328183278116459_330541691213951'}\n",
      "{'title': '函轉內政部修正災害防救法第41條條文', 'url': 'http://bcc.hlis.hlc.edu.tw/files/14-1000-17342,r12-1.php', 'issuer': '教官室', 'date': '2019-06-17'}\n",
      "{'id': '328183278116459_330541867880600'}\n",
      "{'title': '107學年度第二學期第19週菜單', 'url': 'http://bcc.hlis.hlc.edu.tw/files/14-1000-17316,r12-1.php', 'issuer': '員生消費合作社', 'date': '2019-06-17'}\n",
      "{'id': '328183278116459_330542087880578'}\n",
      "{'title': '轉知由技術型高級中等學校土木與建築群科中心辦理108年「學生快速設計比賽」實施計畫', 'url': 'http://bcc.hlis.hlc.edu.tw/files/14-1000-17341,r12-1.php', 'issuer': '實習處', 'date': '2019-06-17'}\n",
      "{'id': '328183278116459_330542324547221'}\n",
      "{'title': '有關本校學生出國應經申請核准後始得出境事宜。', 'url': 'http://bcc.hlis.hlc.edu.tw/files/14-1000-17340,r12-1.php', 'issuer': '教官室', 'date': '2019-06-17'}\n",
      "{'id': '328183278116459_330542567880530'}\n",
      "{'title': '107-2圖書館週比賽(閱讀代言文字類、圖文比賽)得獎作品', 'url': 'http://bcc.hlis.hlc.edu.tw/files/14-1000-17339,r12-1.php', 'issuer': '圖書館', 'date': '2019-06-14'}\n",
      "{'id': '328183278116459_330542767880510'}\n",
      "{'title': '中華民國兒童權利公約首次國家報告相關資料', 'url': 'http://bcc.hlis.hlc.edu.tw/files/14-1000-17338,r12-1.php', 'issuer': '輔導室', 'date': '2019-06-14'}\n",
      "{'id': '328183278116459_330542981213822'}\n",
      "{'title': '國際生涯發展諮詢師CDA認證培訓課程', 'url': 'http://bcc.hlis.hlc.edu.tw/files/14-1000-17337,r12-1.php', 'issuer': '輔導室', 'date': '2019-06-14'}\n",
      "{'id': '328183278116459_330543351213785'}\n",
      "{'title': '轉推薦「明新學校財團法人明新科技大學108學年度傑出校友候選人」，請參閱。', 'url': 'http://bcc.hlis.hlc.edu.tw/files/14-1000-17336,r12-1.php', 'issuer': '人事室', 'date': '2019-06-14'}\n",
      "{'id': '328183278116459_330544344547019'}\n"
     ]
    }
   ],
   "source": [
    "import requests\n",
    "import chardet\n",
    "from bs4 import BeautifulSoup\n",
    "import facebook\n",
    "import time\n",
    "\n",
    "cfg = {\n",
    " \"page_id\" : \"328183278116459\", # Step 1\n",
    " \"access_token\" : \"EAAGK96361AABAD95yWF7MMczMoufybwzTBYn6cSiq0LhrH22G3jhZAqiJIevpZApwSfjsrMdkAZBBjXuUNR0zpwTcjrRt0V39NJpLpi9czVCxoWMGH5OcjYsixhP9qhFiHZBouWAsZCJnxGr8jIZCJ2s8c7S2fglrOsi8T03aZC8AZDZD\" #step3\n",
    "}\n",
    "\n",
    "graph = facebook.GraphAPI(cfg['access_token'])\n",
    "\n",
    "###############Global setting end###############\n",
    "\n",
    "def getrawlist():\n",
    "    \n",
    "    r = requests.get(\"http://bcc.hlis.hlc.edu.tw/files/40-1000-12-1.php\")\n",
    "    r.encoding = 'utf-8'\n",
    "    #print(r.text)\n",
    "\n",
    "    soup = BeautifulSoup(r.text,\"html.parser\")\n",
    "    #print(soup.text)\n",
    "\n",
    "    sel = soup.select(\"table.baseTB.listTB.list_TABLE.hasBD.hasTH tbody tr\")\n",
    "    #print(sel)\n",
    "\n",
    "    for s in sel:\n",
    "    #s = sel[0]\n",
    "        #for begin\n",
    "        data = {}\n",
    "        \n",
    "        #abstract title & url\n",
    "        atag = s.select(\"a\")\n",
    "        data[\"title\"] = atag[0][\"title\"]\n",
    "        data[\"url\"] = atag[0][\"href\"]\n",
    "        \n",
    "        #abstract issuer\n",
    "        \n",
    "        data[\"issuer\"]  = s.select(\"td\")[1].text.strip()\n",
    "        \n",
    "        #abstract date\n",
    "        \n",
    "        data[\"date\"]  = s.select(\"td\")[2].text.strip()\n",
    "        \n",
    "        filt(data)\n",
    "        \n",
    "        #for end\n",
    "    \n",
    "    return\n",
    "\n",
    "def filt(data):\n",
    "    \n",
    "    print(data)\n",
    "    \n",
    "    publisher({\n",
    "        \"message\":'#'+data['issuer']+' / '+data['title']+' / '+data['date'],\n",
    "        \"link\":data[\"url\"]\n",
    "    });\n",
    "    \n",
    "    return\n",
    "\n",
    "def publisher(content):\n",
    "        \n",
    "    #post text,link\n",
    "    print(graph.put_object(cfg['page_id'],\"feed\",message=content[\"message\"],link=content[\"link\"]))\n",
    "    \n",
    "    time.sleep(20)\n",
    "    return\n",
    "\n",
    "getrawlist()\n",
    "    "
   ]
  },
  {
   "cell_type": "code",
   "execution_count": 8,
   "metadata": {},
   "outputs": [
    {
     "name": "stdout",
     "output_type": "stream",
     "text": [
      "<a href=\"/bbs/MobileComm/M.1560782814.A.EB9.html\">[問題] 三星A60螢幕漏光</a>\n",
      "<a href=\"/bbs/MobileComm/M.1560782950.A.3E6.html\">[心得] 1+7 pro/ oneplus 7 pro7簡易開箱心得</a>\n",
      "<a href=\"/bbs/MobileComm/M.1560783288.A.3D1.html\">[問題] 華碩皇家俱樂部手機更換電池問題</a>\n",
      "<a href=\"/bbs/MobileComm/M.1560783642.A.09F.html\">[閒聊] 紅米K20 vs Realme X 拍攝比對</a>\n",
      "<a href=\"/bbs/MobileComm/M.1560783757.A.290.html\">[閒聊] ZenFone4 Android9更新心得</a>\n",
      "<a href=\"/bbs/MobileComm/M.1560785833.A.685.html\">[閒聊] XDA Reno 10X Zoom GCam使用討論</a>\n",
      "<a href=\"/bbs/MobileComm/M.1534272593.A.93B.html\">[情報] 3G要斷訊了? 3G執照到期相關情報整理</a>\n",
      "<a href=\"/bbs/MobileComm/M.1546253879.A.29E.html\">[公告] MobileComm 板規 181231</a>\n",
      "<a href=\"/bbs/MobileComm/M.1546248617.A.0B0.html\">[公告] 板規更新(討噓文、問機文、新聞格式、發推文格式)</a>\n",
      "<a href=\"/bbs/MobileComm/M.1558366165.A.34A.html\">[閒聊] 各種價位的手機/平板列表(2019/05/20)</a>\n",
      "<a href=\"/bbs/MobileComm/M.1559572393.A.146.html\">[閒聊] 置底閒聊文</a>\n"
     ]
    }
   ],
   "source": [
    "import requests\n",
    "from bs4 import BeautifulSoup\n",
    "\n",
    "r = requests.get(\"https://www.ptt.cc/bbs/MobileComm/index.html\") #將網頁資料GET下來\n",
    "soup = BeautifulSoup(r.text,\"html.parser\") #將網頁資料以html.parser\n",
    "sel = soup.select(\"div.title a\") #取HTML標中的 <div class=\"title\"></div> 中的<a>標籤存入sel\n",
    "for s in sel:\n",
    "    #print(s[\"href\"], s.text) \n",
    "    print(s)"
   ]
  },
  {
   "cell_type": "code",
   "execution_count": 42,
   "metadata": {},
   "outputs": [
    {
     "name": "stdout",
     "output_type": "stream",
     "text": [
      "result: {'id': '328183278116459_330522901215830'}\n"
     ]
    }
   ],
   "source": [
    "import facebook\n",
    "\n",
    "cfg = {\n",
    " \"page_id\" : \"328183278116459\", # Step 1\n",
    " \"access_token\" : \"EAAGK96361AABAPnQ72qGMjSdl8KCXO4f70VAjyeYOQCdSBEEjwc7LZABbgNO10KcqSeHLpvgpHmIVBFNwIVVnzbal2U5ERrRanSLsr7vdZB2aEA1YUIOcQVM8vkO7FfMN2uesiC77LvsZCvG8e1Qy2MZBVghZBvTgr2TMBtlVfCYmafuAZC8djlAzvxmKjeiKm9BvDxjOhkwZDZD\" #step3\n",
    "}\n",
    "\n",
    "graph = facebook.GraphAPI(cfg['access_token'])\n",
    "r = graph.put_object(cfg['page_id'],\"feed\",message='#Python post測試\\n 連結2',link='http://bcc.hlis.hlc.edu.tw/files/40-1000-12-1.php')\n",
    "print(\"result:\",r)"
   ]
  },
  {
   "cell_type": "code",
   "execution_count": 47,
   "metadata": {},
   "outputs": [
    {
     "name": "stdout",
     "output_type": "stream",
     "text": [
      "same\n"
     ]
    }
   ],
   "source": [
    "if \"bcc.hlis.hlc.edu.tw\" in \"http://bcc.hlis.hlc.edu.tw/files/14-1000-17350,r12-1.php\":\n",
    "    print(\"same\")\n",
    "else:\n",
    "    print(\"not\")"
   ]
  }
 ],
 "metadata": {
  "kernelspec": {
   "display_name": "Python 3",
   "language": "python",
   "name": "python3"
  },
  "language_info": {
   "codemirror_mode": {
    "name": "ipython",
    "version": 3
   },
   "file_extension": ".py",
   "mimetype": "text/x-python",
   "name": "python",
   "nbconvert_exporter": "python",
   "pygments_lexer": "ipython3",
   "version": "3.7.3"
  }
 },
 "nbformat": 4,
 "nbformat_minor": 2
}
